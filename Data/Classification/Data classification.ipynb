{
 "cells": [
  {
   "cell_type": "markdown",
   "metadata": {},
   "source": [
    "# Data classification based on categories and sub categories"
   ]
  },
  {
   "cell_type": "code",
   "execution_count": 2,
   "metadata": {},
   "outputs": [],
   "source": [
    "import pandas as pd\n",
    "import numpy as np\n",
    "from pandas import DataFrame\n",
    "import nltk, string\n",
    "from sklearn.feature_extraction.text import TfidfVectorizer\n",
    "import matplotlib.pyplot as plt\n",
    "import seaborn as sb\n",
    "%matplotlib inline"
   ]
  },
  {
   "cell_type": "code",
   "execution_count": 2,
   "metadata": {},
   "outputs": [],
   "source": [
    "df = pd.read_excel(\"Data.xlsx\")"
   ]
  },
  {
   "cell_type": "code",
   "execution_count": 3,
   "metadata": {},
   "outputs": [],
   "source": [
    "dfclassification = pd.read_excel(\"Classification details.xlsx\")"
   ]
  },
  {
   "cell_type": "code",
   "execution_count": 4,
   "metadata": {},
   "outputs": [
    {
     "data": {
      "text/html": [
       "<div>\n",
       "<style scoped>\n",
       "    .dataframe tbody tr th:only-of-type {\n",
       "        vertical-align: middle;\n",
       "    }\n",
       "\n",
       "    .dataframe tbody tr th {\n",
       "        vertical-align: top;\n",
       "    }\n",
       "\n",
       "    .dataframe thead th {\n",
       "        text-align: right;\n",
       "    }\n",
       "</style>\n",
       "<table border=\"1\" class=\"dataframe\">\n",
       "  <thead>\n",
       "    <tr style=\"text-align: right;\">\n",
       "      <th></th>\n",
       "      <th>Unnamed: 0</th>\n",
       "      <th>Code secteur</th>\n",
       "      <th>Nom Secteur</th>\n",
       "    </tr>\n",
       "  </thead>\n",
       "  <tbody>\n",
       "    <tr>\n",
       "      <th>0</th>\n",
       "      <td>0</td>\n",
       "      <td>1.0</td>\n",
       "      <td>1   PRESTATIONS TRANSPORT &amp; LOGISTIQUE</td>\n",
       "    </tr>\n",
       "    <tr>\n",
       "      <th>1</th>\n",
       "      <td>1</td>\n",
       "      <td>1.1</td>\n",
       "      <td>1.1 SERVICES TRANSPORT</td>\n",
       "    </tr>\n",
       "    <tr>\n",
       "      <th>2</th>\n",
       "      <td>2</td>\n",
       "      <td>NaN</td>\n",
       "      <td>1.1.1 TRANSPORTS ROUTIERS GÉNÉRAL CARGO</td>\n",
       "    </tr>\n",
       "    <tr>\n",
       "      <th>3</th>\n",
       "      <td>3</td>\n",
       "      <td>NaN</td>\n",
       "      <td>1111 - Transport routier régional et national ...</td>\n",
       "    </tr>\n",
       "    <tr>\n",
       "      <th>4</th>\n",
       "      <td>4</td>\n",
       "      <td>NaN</td>\n",
       "      <td>1112 - Transport de vrac solide</td>\n",
       "    </tr>\n",
       "    <tr>\n",
       "      <th>...</th>\n",
       "      <td>...</td>\n",
       "      <td>...</td>\n",
       "      <td>...</td>\n",
       "    </tr>\n",
       "    <tr>\n",
       "      <th>169</th>\n",
       "      <td>169</td>\n",
       "      <td>NaN</td>\n",
       "      <td>3224 - Location de matériel de stockage</td>\n",
       "    </tr>\n",
       "    <tr>\n",
       "      <th>170</th>\n",
       "      <td>170</td>\n",
       "      <td>NaN</td>\n",
       "      <td>3.2.4 EMBALLAGE</td>\n",
       "    </tr>\n",
       "    <tr>\n",
       "      <th>171</th>\n",
       "      <td>171</td>\n",
       "      <td>NaN</td>\n",
       "      <td>3241 - Fabricant de matériel d’emballage</td>\n",
       "    </tr>\n",
       "    <tr>\n",
       "      <th>172</th>\n",
       "      <td>172</td>\n",
       "      <td>NaN</td>\n",
       "      <td>3242 - Calages, films, feuillards</td>\n",
       "    </tr>\n",
       "    <tr>\n",
       "      <th>173</th>\n",
       "      <td>173</td>\n",
       "      <td>NaN</td>\n",
       "      <td>3248 - Location de matériel d’emballage</td>\n",
       "    </tr>\n",
       "  </tbody>\n",
       "</table>\n",
       "<p>174 rows × 3 columns</p>\n",
       "</div>"
      ],
      "text/plain": [
       "     Unnamed: 0  Code secteur  \\\n",
       "0             0           1.0   \n",
       "1             1           1.1   \n",
       "2             2           NaN   \n",
       "3             3           NaN   \n",
       "4             4           NaN   \n",
       "..          ...           ...   \n",
       "169         169           NaN   \n",
       "170         170           NaN   \n",
       "171         171           NaN   \n",
       "172         172           NaN   \n",
       "173         173           NaN   \n",
       "\n",
       "                                           Nom Secteur  \n",
       "0               1   PRESTATIONS TRANSPORT & LOGISTIQUE  \n",
       "1                               1.1 SERVICES TRANSPORT  \n",
       "2              1.1.1 TRANSPORTS ROUTIERS GÉNÉRAL CARGO  \n",
       "3    1111 - Transport routier régional et national ...  \n",
       "4                      1112 - Transport de vrac solide  \n",
       "..                                                 ...  \n",
       "169            3224 - Location de matériel de stockage  \n",
       "170                                    3.2.4 EMBALLAGE  \n",
       "171           3241 - Fabricant de matériel d’emballage  \n",
       "172                  3242 - Calages, films, feuillards  \n",
       "173            3248 - Location de matériel d’emballage  \n",
       "\n",
       "[174 rows x 3 columns]"
      ]
     },
     "execution_count": 4,
     "metadata": {},
     "output_type": "execute_result"
    }
   ],
   "source": [
    "dfclassification"
   ]
  },
  {
   "cell_type": "code",
   "execution_count": 5,
   "metadata": {},
   "outputs": [],
   "source": [
    "dfclassification = dfclassification.loc[:, ~dfclassification.columns.str.contains('^Unnamed')]"
   ]
  },
  {
   "cell_type": "code",
   "execution_count": 6,
   "metadata": {},
   "outputs": [],
   "source": [
    "writer = pd.ExcelWriter('Classification details.xlsx')\n",
    "dfclassification.to_excel(writer)\n",
    "writer.save()"
   ]
  },
  {
   "cell_type": "markdown",
   "metadata": {},
   "source": [
    "# Preparing sub categories"
   ]
  },
  {
   "cell_type": "code",
   "execution_count": 7,
   "metadata": {},
   "outputs": [],
   "source": [
    "dfSubCategories = DataFrame(columns=['Code Secteur','Nom Secteur'])"
   ]
  },
  {
   "cell_type": "code",
   "execution_count": 8,
   "metadata": {},
   "outputs": [],
   "source": [
    "Code_Secteur = []\n",
    "Secteur = []\n",
    "\n",
    "for i in range(174):\n",
    "    if dfclassification['Nom Secteur'][i][0:5].find('.') == -1:\n",
    "        Code_Secteur.append(dfclassification['Nom Secteur'][i][0:5])\n",
    "        Secteur.append(dfclassification['Nom Secteur'][i][5:])"
   ]
  },
  {
   "cell_type": "code",
   "execution_count": 9,
   "metadata": {},
   "outputs": [
    {
     "data": {
      "text/plain": [
       "126"
      ]
     },
     "execution_count": 9,
     "metadata": {},
     "output_type": "execute_result"
    }
   ],
   "source": [
    "len(Secteur)"
   ]
  },
  {
   "cell_type": "code",
   "execution_count": 10,
   "metadata": {},
   "outputs": [
    {
     "data": {
      "text/plain": [
       "126"
      ]
     },
     "execution_count": 10,
     "metadata": {},
     "output_type": "execute_result"
    }
   ],
   "source": [
    "len(Code_Secteur)"
   ]
  },
  {
   "cell_type": "code",
   "execution_count": 11,
   "metadata": {},
   "outputs": [],
   "source": [
    "dfSubCategories['Code Secteur'] = Code_Secteur\n",
    "dfSubCategories['Nom Secteur'] = Secteur"
   ]
  },
  {
   "cell_type": "code",
   "execution_count": 12,
   "metadata": {},
   "outputs": [
    {
     "data": {
      "text/html": [
       "<div>\n",
       "<style scoped>\n",
       "    .dataframe tbody tr th:only-of-type {\n",
       "        vertical-align: middle;\n",
       "    }\n",
       "\n",
       "    .dataframe tbody tr th {\n",
       "        vertical-align: top;\n",
       "    }\n",
       "\n",
       "    .dataframe thead th {\n",
       "        text-align: right;\n",
       "    }\n",
       "</style>\n",
       "<table border=\"1\" class=\"dataframe\">\n",
       "  <thead>\n",
       "    <tr style=\"text-align: right;\">\n",
       "      <th></th>\n",
       "      <th>Code Secteur</th>\n",
       "      <th>Nom Secteur</th>\n",
       "    </tr>\n",
       "  </thead>\n",
       "  <tbody>\n",
       "    <tr>\n",
       "      <th>0</th>\n",
       "      <td>1   P</td>\n",
       "      <td>RESTATIONS TRANSPORT &amp; LOGISTIQUE</td>\n",
       "    </tr>\n",
       "    <tr>\n",
       "      <th>1</th>\n",
       "      <td>1111</td>\n",
       "      <td>- Transport routier régional et national par lots</td>\n",
       "    </tr>\n",
       "    <tr>\n",
       "      <th>2</th>\n",
       "      <td>1112</td>\n",
       "      <td>- Transport de vrac solide</td>\n",
       "    </tr>\n",
       "    <tr>\n",
       "      <th>3</th>\n",
       "      <td>1113</td>\n",
       "      <td>- Groupage et distribution</td>\n",
       "    </tr>\n",
       "    <tr>\n",
       "      <th>4</th>\n",
       "      <td>1122</td>\n",
       "      <td>- Transport de meubles</td>\n",
       "    </tr>\n",
       "  </tbody>\n",
       "</table>\n",
       "</div>"
      ],
      "text/plain": [
       "  Code Secteur                                        Nom Secteur\n",
       "0        1   P                  RESTATIONS TRANSPORT & LOGISTIQUE\n",
       "1        1111   - Transport routier régional et national par lots\n",
       "2        1112                          - Transport de vrac solide\n",
       "3        1113                          - Groupage et distribution\n",
       "4        1122                              - Transport de meubles"
      ]
     },
     "execution_count": 12,
     "metadata": {},
     "output_type": "execute_result"
    }
   ],
   "source": [
    "dfSubCategories.head()"
   ]
  },
  {
   "cell_type": "code",
   "execution_count": 13,
   "metadata": {},
   "outputs": [],
   "source": [
    "dfSubCategories = dfSubCategories.iloc[1:]"
   ]
  },
  {
   "cell_type": "code",
   "execution_count": 14,
   "metadata": {},
   "outputs": [
    {
     "data": {
      "text/html": [
       "<div>\n",
       "<style scoped>\n",
       "    .dataframe tbody tr th:only-of-type {\n",
       "        vertical-align: middle;\n",
       "    }\n",
       "\n",
       "    .dataframe tbody tr th {\n",
       "        vertical-align: top;\n",
       "    }\n",
       "\n",
       "    .dataframe thead th {\n",
       "        text-align: right;\n",
       "    }\n",
       "</style>\n",
       "<table border=\"1\" class=\"dataframe\">\n",
       "  <thead>\n",
       "    <tr style=\"text-align: right;\">\n",
       "      <th></th>\n",
       "      <th>Code Secteur</th>\n",
       "      <th>Nom Secteur</th>\n",
       "    </tr>\n",
       "  </thead>\n",
       "  <tbody>\n",
       "    <tr>\n",
       "      <th>1</th>\n",
       "      <td>1111</td>\n",
       "      <td>- Transport routier régional et national par lots</td>\n",
       "    </tr>\n",
       "    <tr>\n",
       "      <th>2</th>\n",
       "      <td>1112</td>\n",
       "      <td>- Transport de vrac solide</td>\n",
       "    </tr>\n",
       "    <tr>\n",
       "      <th>3</th>\n",
       "      <td>1113</td>\n",
       "      <td>- Groupage et distribution</td>\n",
       "    </tr>\n",
       "    <tr>\n",
       "      <th>4</th>\n",
       "      <td>1122</td>\n",
       "      <td>- Transport de meubles</td>\n",
       "    </tr>\n",
       "    <tr>\n",
       "      <th>5</th>\n",
       "      <td>1123</td>\n",
       "      <td>- Transport de produits d’hygiène-santé</td>\n",
       "    </tr>\n",
       "  </tbody>\n",
       "</table>\n",
       "</div>"
      ],
      "text/plain": [
       "  Code Secteur                                        Nom Secteur\n",
       "1        1111   - Transport routier régional et national par lots\n",
       "2        1112                          - Transport de vrac solide\n",
       "3        1113                          - Groupage et distribution\n",
       "4        1122                              - Transport de meubles\n",
       "5        1123             - Transport de produits d’hygiène-santé"
      ]
     },
     "execution_count": 14,
     "metadata": {},
     "output_type": "execute_result"
    }
   ],
   "source": [
    "dfSubCategories.head()"
   ]
  },
  {
   "cell_type": "code",
   "execution_count": 15,
   "metadata": {},
   "outputs": [],
   "source": [
    "new_index = np.arange(125)"
   ]
  },
  {
   "cell_type": "code",
   "execution_count": 16,
   "metadata": {},
   "outputs": [],
   "source": [
    "dfSubCategories = dfSubCategories.reindex(new_index, fill_value=' ')"
   ]
  },
  {
   "cell_type": "code",
   "execution_count": 17,
   "metadata": {},
   "outputs": [
    {
     "data": {
      "text/html": [
       "<div>\n",
       "<style scoped>\n",
       "    .dataframe tbody tr th:only-of-type {\n",
       "        vertical-align: middle;\n",
       "    }\n",
       "\n",
       "    .dataframe tbody tr th {\n",
       "        vertical-align: top;\n",
       "    }\n",
       "\n",
       "    .dataframe thead th {\n",
       "        text-align: right;\n",
       "    }\n",
       "</style>\n",
       "<table border=\"1\" class=\"dataframe\">\n",
       "  <thead>\n",
       "    <tr style=\"text-align: right;\">\n",
       "      <th></th>\n",
       "      <th>Code Secteur</th>\n",
       "      <th>Nom Secteur</th>\n",
       "    </tr>\n",
       "  </thead>\n",
       "  <tbody>\n",
       "    <tr>\n",
       "      <th>0</th>\n",
       "      <td></td>\n",
       "      <td></td>\n",
       "    </tr>\n",
       "    <tr>\n",
       "      <th>1</th>\n",
       "      <td>1111</td>\n",
       "      <td>- Transport routier régional et national par lots</td>\n",
       "    </tr>\n",
       "    <tr>\n",
       "      <th>2</th>\n",
       "      <td>1112</td>\n",
       "      <td>- Transport de vrac solide</td>\n",
       "    </tr>\n",
       "    <tr>\n",
       "      <th>3</th>\n",
       "      <td>1113</td>\n",
       "      <td>- Groupage et distribution</td>\n",
       "    </tr>\n",
       "    <tr>\n",
       "      <th>4</th>\n",
       "      <td>1122</td>\n",
       "      <td>- Transport de meubles</td>\n",
       "    </tr>\n",
       "  </tbody>\n",
       "</table>\n",
       "</div>"
      ],
      "text/plain": [
       "  Code Secteur                                        Nom Secteur\n",
       "0                                                                \n",
       "1        1111   - Transport routier régional et national par lots\n",
       "2        1112                          - Transport de vrac solide\n",
       "3        1113                          - Groupage et distribution\n",
       "4        1122                              - Transport de meubles"
      ]
     },
     "execution_count": 17,
     "metadata": {},
     "output_type": "execute_result"
    }
   ],
   "source": [
    "dfSubCategories.head()"
   ]
  },
  {
   "cell_type": "markdown",
   "metadata": {},
   "source": [
    "# Preparing categories"
   ]
  },
  {
   "cell_type": "code",
   "execution_count": 18,
   "metadata": {},
   "outputs": [],
   "source": [
    "dfCategories = DataFrame(columns=['Code Secteur','Nom Secteur'])"
   ]
  },
  {
   "cell_type": "code",
   "execution_count": 19,
   "metadata": {},
   "outputs": [],
   "source": [
    "Code_Secteur = []\n",
    "Secteur = []\n",
    "\n",
    "for i in range(174):\n",
    "    if dfclassification['Nom Secteur'][i][0:5].find('.') != -1:\n",
    "        if dfclassification['Nom Secteur'][i][0:5][3] == '.':\n",
    "            Code_Secteur.append(dfclassification['Nom Secteur'][i][0:5])\n",
    "            Secteur.append(dfclassification['Nom Secteur'][i][5:])"
   ]
  },
  {
   "cell_type": "code",
   "execution_count": 20,
   "metadata": {},
   "outputs": [],
   "source": [
    "dfCategories['Code Secteur'] = Code_Secteur\n",
    "dfCategories['Nom Secteur'] = Secteur"
   ]
  },
  {
   "cell_type": "code",
   "execution_count": 37,
   "metadata": {},
   "outputs": [
    {
     "data": {
      "text/html": [
       "<div>\n",
       "<style scoped>\n",
       "    .dataframe tbody tr th:only-of-type {\n",
       "        vertical-align: middle;\n",
       "    }\n",
       "\n",
       "    .dataframe tbody tr th {\n",
       "        vertical-align: top;\n",
       "    }\n",
       "\n",
       "    .dataframe thead th {\n",
       "        text-align: right;\n",
       "    }\n",
       "</style>\n",
       "<table border=\"1\" class=\"dataframe\">\n",
       "  <thead>\n",
       "    <tr style=\"text-align: right;\">\n",
       "      <th></th>\n",
       "      <th>Code Secteur</th>\n",
       "      <th>Nom Secteur</th>\n",
       "    </tr>\n",
       "  </thead>\n",
       "  <tbody>\n",
       "    <tr>\n",
       "      <th>0</th>\n",
       "      <td>1.1.1</td>\n",
       "      <td>TRANSPORTS ROUTIERS GÉNÉRAL CARGO</td>\n",
       "    </tr>\n",
       "    <tr>\n",
       "      <th>1</th>\n",
       "      <td>1.1.2</td>\n",
       "      <td>TRANSPORTS SPÉCIALISÉS</td>\n",
       "    </tr>\n",
       "    <tr>\n",
       "      <th>2</th>\n",
       "      <td>1.1.3</td>\n",
       "      <td>TRANSPORTS EN CITERNE</td>\n",
       "    </tr>\n",
       "    <tr>\n",
       "      <th>3</th>\n",
       "      <td>1.1.4</td>\n",
       "      <td>MESSAGERIE</td>\n",
       "    </tr>\n",
       "    <tr>\n",
       "      <th>4</th>\n",
       "      <td>1.1.5</td>\n",
       "      <td>TRANSPORT EXPRESS OU URGENT</td>\n",
       "    </tr>\n",
       "  </tbody>\n",
       "</table>\n",
       "</div>"
      ],
      "text/plain": [
       "  Code Secteur                         Nom Secteur\n",
       "0        1.1.1   TRANSPORTS ROUTIERS GÉNÉRAL CARGO\n",
       "1        1.1.2              TRANSPORTS SPÉCIALISÉS\n",
       "2        1.1.3               TRANSPORTS EN CITERNE\n",
       "3        1.1.4                          MESSAGERIE\n",
       "4        1.1.5         TRANSPORT EXPRESS OU URGENT"
      ]
     },
     "execution_count": 37,
     "metadata": {},
     "output_type": "execute_result"
    }
   ],
   "source": [
    "dfCategories.head()"
   ]
  },
  {
   "cell_type": "code",
   "execution_count": 38,
   "metadata": {},
   "outputs": [
    {
     "data": {
      "text/plain": [
       "37"
      ]
     },
     "execution_count": 38,
     "metadata": {},
     "output_type": "execute_result"
    }
   ],
   "source": [
    "len(dfCategories['Nom Secteur'])"
   ]
  },
  {
   "cell_type": "markdown",
   "metadata": {},
   "source": [
    "# Level 1 : sub categories"
   ]
  },
  {
   "cell_type": "code",
   "execution_count": 32,
   "metadata": {},
   "outputs": [],
   "source": [
    "dfsub = df.copy()"
   ]
  },
  {
   "cell_type": "code",
   "execution_count": 33,
   "metadata": {},
   "outputs": [],
   "source": [
    "dfsub = dfsub.loc[:, ~dfsub.columns.str.contains('^Unnamed')]"
   ]
  },
  {
   "cell_type": "code",
   "execution_count": 61,
   "metadata": {},
   "outputs": [],
   "source": [
    "listData = []\n",
    "for i in range(1589):\n",
    "    listData.append(''.join(str([dfsub['Nom'][i],dfsub['Description'][i],dfsub['Secteur'][i],dfsub['Activite'][i]])))"
   ]
  },
  {
   "cell_type": "code",
   "execution_count": 29,
   "metadata": {},
   "outputs": [],
   "source": [
    "stemmer = nltk.stem.porter.PorterStemmer()\n",
    "remove_punctuation_map = dict((ord(char), None) for char in string.punctuation)\n",
    "\n",
    "def stem_tokens(tokens):\n",
    "    return [stemmer.stem(item) for item in tokens]\n",
    "\n",
    "'''remove punctuation, lowercase, stem'''\n",
    "def normalize(text):\n",
    "    return stem_tokens(nltk.word_tokenize(text.lower().translate(remove_punctuation_map)))\n",
    "\n",
    "vectorizer = TfidfVectorizer(tokenizer=normalize, stop_words='english')\n",
    "\n",
    "def cosine_sim(text1, text2):\n",
    "    tfidf = vectorizer.fit_transform([text1, text2])\n",
    "    return ((tfidf * tfidf.T).A)[0,1]"
   ]
  },
  {
   "cell_type": "code",
   "execution_count": 3,
   "metadata": {},
   "outputs": [],
   "source": [
    "dfSubCatClass = DataFrame(columns=['Nom','Code Secteur','Nom Secteur'])\n",
    "listNom = []\n",
    "listCode = []\n",
    "listNomSecteur = []\n",
    "k=0\n",
    "for item in listData:\n",
    "    listNom.append(dfsub['Nom'][k])\n",
    "    dictData = {}\n",
    "    for j in range(125):\n",
    "        dictData[dfSubCategories['Nom Secteur'][j]] = cosine_sim(item,dfSubCategories['Nom Secteur'][j])\n",
    "        \n",
    "    listCode.append( max(dictData.values()) )\n",
    "    listNomSecteur.append( list(dictData.keys())[list(dictData.values()).index(max(dictData.values()))] )\n",
    "    \n",
    "    \n",
    "    k = k+1\n",
    "    print(\"\\n\")"
   ]
  },
  {
   "cell_type": "code",
   "execution_count": 36,
   "metadata": {},
   "outputs": [
    {
     "data": {
      "text/plain": [
       "1589"
      ]
     },
     "execution_count": 36,
     "metadata": {},
     "output_type": "execute_result"
    }
   ],
   "source": [
    "len(listCode)"
   ]
  },
  {
   "cell_type": "code",
   "execution_count": 37,
   "metadata": {},
   "outputs": [
    {
     "data": {
      "text/plain": [
       "1589"
      ]
     },
     "execution_count": 37,
     "metadata": {},
     "output_type": "execute_result"
    }
   ],
   "source": [
    "len(listNomSecteur)"
   ]
  },
  {
   "cell_type": "code",
   "execution_count": 39,
   "metadata": {},
   "outputs": [],
   "source": [
    "dfSubCatClass['Nom'] = listNom\n",
    "dfSubCatClass['Code Secteur'] = listCode\n",
    "dfSubCatClass['Nom Secteur'] = listNomSecteur"
   ]
  },
  {
   "cell_type": "code",
   "execution_count": 45,
   "metadata": {},
   "outputs": [
    {
     "data": {
      "text/html": [
       "<div>\n",
       "<style scoped>\n",
       "    .dataframe tbody tr th:only-of-type {\n",
       "        vertical-align: middle;\n",
       "    }\n",
       "\n",
       "    .dataframe tbody tr th {\n",
       "        vertical-align: top;\n",
       "    }\n",
       "\n",
       "    .dataframe thead th {\n",
       "        text-align: right;\n",
       "    }\n",
       "</style>\n",
       "<table border=\"1\" class=\"dataframe\">\n",
       "  <thead>\n",
       "    <tr style=\"text-align: right;\">\n",
       "      <th></th>\n",
       "      <th>Nom</th>\n",
       "      <th>Code Secteur</th>\n",
       "      <th>Nom Secteur</th>\n",
       "    </tr>\n",
       "    <tr>\n",
       "      <th></th>\n",
       "      <th></th>\n",
       "      <th></th>\n",
       "      <th></th>\n",
       "    </tr>\n",
       "  </thead>\n",
       "  <tbody>\n",
       "    <tr>\n",
       "      <th>0</th>\n",
       "      <td>Allo Fret</td>\n",
       "      <td>0.563834</td>\n",
       "      <td>- Transport de meubles</td>\n",
       "    </tr>\n",
       "    <tr>\n",
       "      <th>1</th>\n",
       "      <td>DHL Express</td>\n",
       "      <td>0.235836</td>\n",
       "      <td>- Transport et livraison</td>\n",
       "    </tr>\n",
       "    <tr>\n",
       "      <th>2</th>\n",
       "      <td>AAC Globe Express</td>\n",
       "      <td>0.618945</td>\n",
       "      <td>- Transport de meubles</td>\n",
       "    </tr>\n",
       "    <tr>\n",
       "      <th>3</th>\n",
       "      <td>France Express</td>\n",
       "      <td>0.499754</td>\n",
       "      <td>- Transport express national</td>\n",
       "    </tr>\n",
       "    <tr>\n",
       "      <th>4</th>\n",
       "      <td>DHL Express</td>\n",
       "      <td>0.283636</td>\n",
       "      <td>- Transport et livraison</td>\n",
       "    </tr>\n",
       "    <tr>\n",
       "      <th>...</th>\n",
       "      <td>...</td>\n",
       "      <td>...</td>\n",
       "      <td>...</td>\n",
       "    </tr>\n",
       "    <tr>\n",
       "      <th>1584</th>\n",
       "      <td>Awell Ttl</td>\n",
       "      <td>0.161714</td>\n",
       "      <td>- Logistique de retour</td>\n",
       "    </tr>\n",
       "    <tr>\n",
       "      <th>1585</th>\n",
       "      <td>Axalys Logistics Maroc</td>\n",
       "      <td>0.150557</td>\n",
       "      <td>- Transport de meubles</td>\n",
       "    </tr>\n",
       "    <tr>\n",
       "      <th>1586</th>\n",
       "      <td>Aya Intercontinental</td>\n",
       "      <td>0.161714</td>\n",
       "      <td>- Transport de meubles</td>\n",
       "    </tr>\n",
       "    <tr>\n",
       "      <th>1587</th>\n",
       "      <td>Ayan Transit</td>\n",
       "      <td>0.161714</td>\n",
       "      <td>- Logistique de retour</td>\n",
       "    </tr>\n",
       "    <tr>\n",
       "      <th>1588</th>\n",
       "      <td>Ayasalam Travel</td>\n",
       "      <td>0.161714</td>\n",
       "      <td>- Logistique de retour</td>\n",
       "    </tr>\n",
       "  </tbody>\n",
       "</table>\n",
       "<p>1589 rows × 3 columns</p>\n",
       "</div>"
      ],
      "text/plain": [
       "                           Nom  Code Secteur                   Nom Secteur\n",
       "                                                                          \n",
       "0                    Allo Fret      0.563834        - Transport de meubles\n",
       "1                  DHL Express      0.235836      - Transport et livraison\n",
       "2            AAC Globe Express      0.618945        - Transport de meubles\n",
       "3               France Express      0.499754  - Transport express national\n",
       "4                  DHL Express      0.283636      - Transport et livraison\n",
       "...                        ...           ...                           ...\n",
       "1584                Awell Ttl       0.161714        - Logistique de retour\n",
       "1585   Axalys Logistics Maroc       0.150557        - Transport de meubles\n",
       "1586     Aya Intercontinental       0.161714        - Transport de meubles\n",
       "1587             Ayan Transit       0.161714        - Logistique de retour\n",
       "1588          Ayasalam Travel       0.161714        - Logistique de retour\n",
       "\n",
       "[1589 rows x 3 columns]"
      ]
     },
     "execution_count": 45,
     "metadata": {},
     "output_type": "execute_result"
    }
   ],
   "source": [
    "dfSubCatClass"
   ]
  },
  {
   "cell_type": "code",
   "execution_count": 49,
   "metadata": {},
   "outputs": [],
   "source": [
    "# dfSubCategories\n",
    "\n",
    "dfSubCatClass.rename(columns = {\"Code Secteur\" : \"Similarity\"}, inplace = True)"
   ]
  },
  {
   "cell_type": "code",
   "execution_count": 55,
   "metadata": {},
   "outputs": [
    {
     "data": {
      "text/html": [
       "<div>\n",
       "<style scoped>\n",
       "    .dataframe tbody tr th:only-of-type {\n",
       "        vertical-align: middle;\n",
       "    }\n",
       "\n",
       "    .dataframe tbody tr th {\n",
       "        vertical-align: top;\n",
       "    }\n",
       "\n",
       "    .dataframe thead th {\n",
       "        text-align: right;\n",
       "    }\n",
       "</style>\n",
       "<table border=\"1\" class=\"dataframe\">\n",
       "  <thead>\n",
       "    <tr style=\"text-align: right;\">\n",
       "      <th></th>\n",
       "      <th>Nom</th>\n",
       "      <th>Similarity</th>\n",
       "      <th>Nom Secteur</th>\n",
       "    </tr>\n",
       "    <tr>\n",
       "      <th></th>\n",
       "      <th></th>\n",
       "      <th></th>\n",
       "      <th></th>\n",
       "    </tr>\n",
       "  </thead>\n",
       "  <tbody>\n",
       "    <tr>\n",
       "      <th>0</th>\n",
       "      <td>Allo Fret</td>\n",
       "      <td>0.563834</td>\n",
       "      <td>- Transport de meubles</td>\n",
       "    </tr>\n",
       "    <tr>\n",
       "      <th>1</th>\n",
       "      <td>DHL Express</td>\n",
       "      <td>0.235836</td>\n",
       "      <td>- Transport et livraison</td>\n",
       "    </tr>\n",
       "    <tr>\n",
       "      <th>2</th>\n",
       "      <td>AAC Globe Express</td>\n",
       "      <td>0.618945</td>\n",
       "      <td>- Transport de meubles</td>\n",
       "    </tr>\n",
       "    <tr>\n",
       "      <th>3</th>\n",
       "      <td>France Express</td>\n",
       "      <td>0.499754</td>\n",
       "      <td>- Transport express national</td>\n",
       "    </tr>\n",
       "    <tr>\n",
       "      <th>4</th>\n",
       "      <td>DHL Express</td>\n",
       "      <td>0.283636</td>\n",
       "      <td>- Transport et livraison</td>\n",
       "    </tr>\n",
       "    <tr>\n",
       "      <th>...</th>\n",
       "      <td>...</td>\n",
       "      <td>...</td>\n",
       "      <td>...</td>\n",
       "    </tr>\n",
       "    <tr>\n",
       "      <th>1584</th>\n",
       "      <td>Awell Ttl</td>\n",
       "      <td>0.161714</td>\n",
       "      <td>- Logistique de retour</td>\n",
       "    </tr>\n",
       "    <tr>\n",
       "      <th>1585</th>\n",
       "      <td>Axalys Logistics Maroc</td>\n",
       "      <td>0.150557</td>\n",
       "      <td>- Transport de meubles</td>\n",
       "    </tr>\n",
       "    <tr>\n",
       "      <th>1586</th>\n",
       "      <td>Aya Intercontinental</td>\n",
       "      <td>0.161714</td>\n",
       "      <td>- Transport de meubles</td>\n",
       "    </tr>\n",
       "    <tr>\n",
       "      <th>1587</th>\n",
       "      <td>Ayan Transit</td>\n",
       "      <td>0.161714</td>\n",
       "      <td>- Logistique de retour</td>\n",
       "    </tr>\n",
       "    <tr>\n",
       "      <th>1588</th>\n",
       "      <td>Ayasalam Travel</td>\n",
       "      <td>0.161714</td>\n",
       "      <td>- Logistique de retour</td>\n",
       "    </tr>\n",
       "  </tbody>\n",
       "</table>\n",
       "<p>1589 rows × 3 columns</p>\n",
       "</div>"
      ],
      "text/plain": [
       "                           Nom  Similarity                   Nom Secteur\n",
       "                                                                        \n",
       "0                    Allo Fret    0.563834        - Transport de meubles\n",
       "1                  DHL Express    0.235836      - Transport et livraison\n",
       "2            AAC Globe Express    0.618945        - Transport de meubles\n",
       "3               France Express    0.499754  - Transport express national\n",
       "4                  DHL Express    0.283636      - Transport et livraison\n",
       "...                        ...         ...                           ...\n",
       "1584                Awell Ttl     0.161714        - Logistique de retour\n",
       "1585   Axalys Logistics Maroc     0.150557        - Transport de meubles\n",
       "1586     Aya Intercontinental     0.161714        - Transport de meubles\n",
       "1587             Ayan Transit     0.161714        - Logistique de retour\n",
       "1588          Ayasalam Travel     0.161714        - Logistique de retour\n",
       "\n",
       "[1589 rows x 3 columns]"
      ]
     },
     "execution_count": 55,
     "metadata": {},
     "output_type": "execute_result"
    }
   ],
   "source": [
    "dfSubCatClass"
   ]
  },
  {
   "cell_type": "code",
   "execution_count": 24,
   "metadata": {},
   "outputs": [
    {
     "data": {
      "text/plain": [
       "0             - Transport de meubles\n",
       "1           - Transport et livraison\n",
       "2             - Transport de meubles\n",
       "3       - Transport express national\n",
       "4           - Transport et livraison\n",
       "                    ...             \n",
       "1584          - Logistique de retour\n",
       "1585          - Transport de meubles\n",
       "1586          - Transport de meubles\n",
       "1587          - Logistique de retour\n",
       "1588          - Logistique de retour\n",
       "Name: Nom Secteur, Length: 1589, dtype: object"
      ]
     },
     "execution_count": 24,
     "metadata": {},
     "output_type": "execute_result"
    }
   ],
   "source": [
    "dfSubCatClass['Nom Secteur']"
   ]
  },
  {
   "cell_type": "code",
   "execution_count": 26,
   "metadata": {},
   "outputs": [],
   "source": [
    "listCode = []\n",
    "listSecteur = []\n",
    "for i in range(1589):\n",
    "    for j in range(125):\n",
    "        if  dfSubCatClass['Nom Secteur'][i] == dfSubCategories['Nom Secteur'][j]:\n",
    "            listCode.append(dfSubCategories['Code Secteur'][j])\n",
    "            listSecteur.append(dfSubCategories['Nom Secteur'][j])\n",
    "            break"
   ]
  },
  {
   "cell_type": "code",
   "execution_count": 78,
   "metadata": {},
   "outputs": [
    {
     "data": {
      "text/plain": [
       "1589"
      ]
     },
     "execution_count": 78,
     "metadata": {},
     "output_type": "execute_result"
    }
   ],
   "source": [
    "len(listCode)"
   ]
  },
  {
   "cell_type": "code",
   "execution_count": 80,
   "metadata": {},
   "outputs": [],
   "source": [
    "dfSubCatClass['Code Secteur'] = listCode"
   ]
  },
  {
   "cell_type": "code",
   "execution_count": 81,
   "metadata": {},
   "outputs": [
    {
     "data": {
      "text/html": [
       "<div>\n",
       "<style scoped>\n",
       "    .dataframe tbody tr th:only-of-type {\n",
       "        vertical-align: middle;\n",
       "    }\n",
       "\n",
       "    .dataframe tbody tr th {\n",
       "        vertical-align: top;\n",
       "    }\n",
       "\n",
       "    .dataframe thead th {\n",
       "        text-align: right;\n",
       "    }\n",
       "</style>\n",
       "<table border=\"1\" class=\"dataframe\">\n",
       "  <thead>\n",
       "    <tr style=\"text-align: right;\">\n",
       "      <th></th>\n",
       "      <th>Nom</th>\n",
       "      <th>Similarity</th>\n",
       "      <th>Nom Secteur</th>\n",
       "      <th>Code Secteur</th>\n",
       "    </tr>\n",
       "    <tr>\n",
       "      <th></th>\n",
       "      <th></th>\n",
       "      <th></th>\n",
       "      <th></th>\n",
       "      <th></th>\n",
       "    </tr>\n",
       "  </thead>\n",
       "  <tbody>\n",
       "    <tr>\n",
       "      <th>0</th>\n",
       "      <td>Allo Fret</td>\n",
       "      <td>0.563834</td>\n",
       "      <td>- Transport de meubles</td>\n",
       "      <td>1122</td>\n",
       "    </tr>\n",
       "    <tr>\n",
       "      <th>1</th>\n",
       "      <td>DHL Express</td>\n",
       "      <td>0.235836</td>\n",
       "      <td>- Transport et livraison</td>\n",
       "      <td>1231</td>\n",
       "    </tr>\n",
       "    <tr>\n",
       "      <th>2</th>\n",
       "      <td>AAC Globe Express</td>\n",
       "      <td>0.618945</td>\n",
       "      <td>- Transport de meubles</td>\n",
       "      <td>1122</td>\n",
       "    </tr>\n",
       "    <tr>\n",
       "      <th>3</th>\n",
       "      <td>France Express</td>\n",
       "      <td>0.499754</td>\n",
       "      <td>- Transport express national</td>\n",
       "      <td>1151</td>\n",
       "    </tr>\n",
       "    <tr>\n",
       "      <th>4</th>\n",
       "      <td>DHL Express</td>\n",
       "      <td>0.283636</td>\n",
       "      <td>- Transport et livraison</td>\n",
       "      <td>1231</td>\n",
       "    </tr>\n",
       "    <tr>\n",
       "      <th>...</th>\n",
       "      <td>...</td>\n",
       "      <td>...</td>\n",
       "      <td>...</td>\n",
       "      <td>...</td>\n",
       "    </tr>\n",
       "    <tr>\n",
       "      <th>1584</th>\n",
       "      <td>Awell Ttl</td>\n",
       "      <td>0.161714</td>\n",
       "      <td>- Logistique de retour</td>\n",
       "      <td>1234</td>\n",
       "    </tr>\n",
       "    <tr>\n",
       "      <th>1585</th>\n",
       "      <td>Axalys Logistics Maroc</td>\n",
       "      <td>0.150557</td>\n",
       "      <td>- Transport de meubles</td>\n",
       "      <td>1122</td>\n",
       "    </tr>\n",
       "    <tr>\n",
       "      <th>1586</th>\n",
       "      <td>Aya Intercontinental</td>\n",
       "      <td>0.161714</td>\n",
       "      <td>- Transport de meubles</td>\n",
       "      <td>1122</td>\n",
       "    </tr>\n",
       "    <tr>\n",
       "      <th>1587</th>\n",
       "      <td>Ayan Transit</td>\n",
       "      <td>0.161714</td>\n",
       "      <td>- Logistique de retour</td>\n",
       "      <td>1234</td>\n",
       "    </tr>\n",
       "    <tr>\n",
       "      <th>1588</th>\n",
       "      <td>Ayasalam Travel</td>\n",
       "      <td>0.161714</td>\n",
       "      <td>- Logistique de retour</td>\n",
       "      <td>1234</td>\n",
       "    </tr>\n",
       "  </tbody>\n",
       "</table>\n",
       "<p>1589 rows × 4 columns</p>\n",
       "</div>"
      ],
      "text/plain": [
       "                           Nom  Similarity                   Nom Secteur  \\\n",
       "                                                                           \n",
       "0                    Allo Fret    0.563834        - Transport de meubles   \n",
       "1                  DHL Express    0.235836      - Transport et livraison   \n",
       "2            AAC Globe Express    0.618945        - Transport de meubles   \n",
       "3               France Express    0.499754  - Transport express national   \n",
       "4                  DHL Express    0.283636      - Transport et livraison   \n",
       "...                        ...         ...                           ...   \n",
       "1584                Awell Ttl     0.161714        - Logistique de retour   \n",
       "1585   Axalys Logistics Maroc     0.150557        - Transport de meubles   \n",
       "1586     Aya Intercontinental     0.161714        - Transport de meubles   \n",
       "1587             Ayan Transit     0.161714        - Logistique de retour   \n",
       "1588          Ayasalam Travel     0.161714        - Logistique de retour   \n",
       "\n",
       "     Code Secteur  \n",
       "                   \n",
       "0           1122   \n",
       "1           1231   \n",
       "2           1122   \n",
       "3           1151   \n",
       "4           1231   \n",
       "...           ...  \n",
       "1584        1234   \n",
       "1585        1122   \n",
       "1586        1122   \n",
       "1587        1234   \n",
       "1588        1234   \n",
       "\n",
       "[1589 rows x 4 columns]"
      ]
     },
     "execution_count": 81,
     "metadata": {},
     "output_type": "execute_result"
    }
   ],
   "source": [
    "dfSubCatClass"
   ]
  },
  {
   "cell_type": "code",
   "execution_count": 82,
   "metadata": {},
   "outputs": [],
   "source": [
    "writer = pd.ExcelWriter('Classification sub categories.xlsx')\n",
    "dfSubCatClass.to_excel(writer)\n",
    "writer.save()"
   ]
  },
  {
   "cell_type": "code",
   "execution_count": 22,
   "metadata": {},
   "outputs": [],
   "source": [
    "dfSubCatClass = pd.read_excel(\"Classification sub categories.xlsx\")"
   ]
  },
  {
   "cell_type": "code",
   "execution_count": 23,
   "metadata": {},
   "outputs": [
    {
     "data": {
      "text/html": [
       "<div>\n",
       "<style scoped>\n",
       "    .dataframe tbody tr th:only-of-type {\n",
       "        vertical-align: middle;\n",
       "    }\n",
       "\n",
       "    .dataframe tbody tr th {\n",
       "        vertical-align: top;\n",
       "    }\n",
       "\n",
       "    .dataframe thead th {\n",
       "        text-align: right;\n",
       "    }\n",
       "</style>\n",
       "<table border=\"1\" class=\"dataframe\">\n",
       "  <thead>\n",
       "    <tr style=\"text-align: right;\">\n",
       "      <th></th>\n",
       "      <th>Unnamed: 0</th>\n",
       "      <th>Nom</th>\n",
       "      <th>Similarity</th>\n",
       "      <th>Nom Secteur</th>\n",
       "      <th>Code Secteur</th>\n",
       "    </tr>\n",
       "  </thead>\n",
       "  <tbody>\n",
       "    <tr>\n",
       "      <th>0</th>\n",
       "      <td>0</td>\n",
       "      <td>Allo Fret</td>\n",
       "      <td>0.563834</td>\n",
       "      <td>- Transport de meubles</td>\n",
       "      <td>1122</td>\n",
       "    </tr>\n",
       "    <tr>\n",
       "      <th>1</th>\n",
       "      <td>1</td>\n",
       "      <td>DHL Express</td>\n",
       "      <td>0.235836</td>\n",
       "      <td>- Transport et livraison</td>\n",
       "      <td>1231</td>\n",
       "    </tr>\n",
       "    <tr>\n",
       "      <th>2</th>\n",
       "      <td>2</td>\n",
       "      <td>AAC Globe Express</td>\n",
       "      <td>0.618945</td>\n",
       "      <td>- Transport de meubles</td>\n",
       "      <td>1122</td>\n",
       "    </tr>\n",
       "    <tr>\n",
       "      <th>3</th>\n",
       "      <td>3</td>\n",
       "      <td>France Express</td>\n",
       "      <td>0.499754</td>\n",
       "      <td>- Transport express national</td>\n",
       "      <td>1151</td>\n",
       "    </tr>\n",
       "    <tr>\n",
       "      <th>4</th>\n",
       "      <td>4</td>\n",
       "      <td>DHL Express</td>\n",
       "      <td>0.283636</td>\n",
       "      <td>- Transport et livraison</td>\n",
       "      <td>1231</td>\n",
       "    </tr>\n",
       "    <tr>\n",
       "      <th>...</th>\n",
       "      <td>...</td>\n",
       "      <td>...</td>\n",
       "      <td>...</td>\n",
       "      <td>...</td>\n",
       "      <td>...</td>\n",
       "    </tr>\n",
       "    <tr>\n",
       "      <th>1584</th>\n",
       "      <td>1584</td>\n",
       "      <td>Awell Ttl</td>\n",
       "      <td>0.161714</td>\n",
       "      <td>- Logistique de retour</td>\n",
       "      <td>1234</td>\n",
       "    </tr>\n",
       "    <tr>\n",
       "      <th>1585</th>\n",
       "      <td>1585</td>\n",
       "      <td>Axalys Logistics Maroc</td>\n",
       "      <td>0.150557</td>\n",
       "      <td>- Transport de meubles</td>\n",
       "      <td>1122</td>\n",
       "    </tr>\n",
       "    <tr>\n",
       "      <th>1586</th>\n",
       "      <td>1586</td>\n",
       "      <td>Aya Intercontinental</td>\n",
       "      <td>0.161714</td>\n",
       "      <td>- Transport de meubles</td>\n",
       "      <td>1122</td>\n",
       "    </tr>\n",
       "    <tr>\n",
       "      <th>1587</th>\n",
       "      <td>1587</td>\n",
       "      <td>Ayan Transit</td>\n",
       "      <td>0.161714</td>\n",
       "      <td>- Logistique de retour</td>\n",
       "      <td>1234</td>\n",
       "    </tr>\n",
       "    <tr>\n",
       "      <th>1588</th>\n",
       "      <td>1588</td>\n",
       "      <td>Ayasalam Travel</td>\n",
       "      <td>0.161714</td>\n",
       "      <td>- Logistique de retour</td>\n",
       "      <td>1234</td>\n",
       "    </tr>\n",
       "  </tbody>\n",
       "</table>\n",
       "<p>1589 rows × 5 columns</p>\n",
       "</div>"
      ],
      "text/plain": [
       "      Unnamed: 0                       Nom  Similarity  \\\n",
       "0              0                 Allo Fret    0.563834   \n",
       "1              1               DHL Express    0.235836   \n",
       "2              2         AAC Globe Express    0.618945   \n",
       "3              3            France Express    0.499754   \n",
       "4              4               DHL Express    0.283636   \n",
       "...          ...                       ...         ...   \n",
       "1584        1584                Awell Ttl     0.161714   \n",
       "1585        1585   Axalys Logistics Maroc     0.150557   \n",
       "1586        1586     Aya Intercontinental     0.161714   \n",
       "1587        1587             Ayan Transit     0.161714   \n",
       "1588        1588          Ayasalam Travel     0.161714   \n",
       "\n",
       "                       Nom Secteur Code Secteur  \n",
       "0           - Transport de meubles        1122   \n",
       "1         - Transport et livraison        1231   \n",
       "2           - Transport de meubles        1122   \n",
       "3     - Transport express national        1151   \n",
       "4         - Transport et livraison        1231   \n",
       "...                            ...          ...  \n",
       "1584        - Logistique de retour        1234   \n",
       "1585        - Transport de meubles        1122   \n",
       "1586        - Transport de meubles        1122   \n",
       "1587        - Logistique de retour        1234   \n",
       "1588        - Logistique de retour        1234   \n",
       "\n",
       "[1589 rows x 5 columns]"
      ]
     },
     "execution_count": 23,
     "metadata": {},
     "output_type": "execute_result"
    }
   ],
   "source": [
    "dfSubCatClass"
   ]
  },
  {
   "cell_type": "markdown",
   "metadata": {},
   "source": [
    "# Level 2 : categories"
   ]
  },
  {
   "cell_type": "code",
   "execution_count": 4,
   "metadata": {},
   "outputs": [],
   "source": [
    "dfCatClass = DataFrame(columns=['Nom','Code Secteur','Nom Secteur'])\n",
    "listNom = []\n",
    "listCode = []\n",
    "listNomSecteur = []\n",
    "k=0\n",
    "for item in listData:\n",
    "    listNom.append(dfsub['Nom'][k])\n",
    "    dictData = {}\n",
    "    for j in range(37):\n",
    "        dictData[dfCategories['Nom Secteur'][j]] = cosine_sim(item,dfCategories['Nom Secteur'][j])\n",
    "        \n",
    "    listCode.append( max(dictData.values()) )\n",
    "    listNomSecteur.append( list(dictData.keys())[list(dictData.values()).index(max(dictData.values()))] )\n",
    "    \n",
    "    \n",
    "    k = k+1"
   ]
  },
  {
   "cell_type": "code",
   "execution_count": 43,
   "metadata": {},
   "outputs": [],
   "source": [
    "dfCatClass['Nom'] = listNom\n",
    "dfCatClass['Code Secteur'] = listCode\n",
    "dfCatClass['Nom Secteur'] = listNomSecteur"
   ]
  },
  {
   "cell_type": "code",
   "execution_count": 44,
   "metadata": {},
   "outputs": [
    {
     "data": {
      "text/html": [
       "<div>\n",
       "<style scoped>\n",
       "    .dataframe tbody tr th:only-of-type {\n",
       "        vertical-align: middle;\n",
       "    }\n",
       "\n",
       "    .dataframe tbody tr th {\n",
       "        vertical-align: top;\n",
       "    }\n",
       "\n",
       "    .dataframe thead th {\n",
       "        text-align: right;\n",
       "    }\n",
       "</style>\n",
       "<table border=\"1\" class=\"dataframe\">\n",
       "  <thead>\n",
       "    <tr style=\"text-align: right;\">\n",
       "      <th></th>\n",
       "      <th>Nom</th>\n",
       "      <th>Code Secteur</th>\n",
       "      <th>Nom Secteur</th>\n",
       "    </tr>\n",
       "  </thead>\n",
       "  <tbody>\n",
       "    <tr>\n",
       "      <th>0</th>\n",
       "      <td>Allo Fret</td>\n",
       "      <td>0.516752</td>\n",
       "      <td>TRANSPORT ROUTIER INTERNATIONAL</td>\n",
       "    </tr>\n",
       "    <tr>\n",
       "      <th>1</th>\n",
       "      <td>DHL Express</td>\n",
       "      <td>0.178742</td>\n",
       "      <td>CONSEIL (EN LOGISTIQUE) - FORMATION ET EMPLOI</td>\n",
       "    </tr>\n",
       "    <tr>\n",
       "      <th>2</th>\n",
       "      <td>AAC Globe Express</td>\n",
       "      <td>0.551207</td>\n",
       "      <td>TRANSPORT ROUTIER INTERNATIONAL</td>\n",
       "    </tr>\n",
       "    <tr>\n",
       "      <th>3</th>\n",
       "      <td>France Express</td>\n",
       "      <td>0.400367</td>\n",
       "      <td>TRANSPORT EXPRESS OU URGENT</td>\n",
       "    </tr>\n",
       "    <tr>\n",
       "      <th>4</th>\n",
       "      <td>DHL Express</td>\n",
       "      <td>0.200818</td>\n",
       "      <td>TRANSPORTS EN CITERNE</td>\n",
       "    </tr>\n",
       "    <tr>\n",
       "      <th>...</th>\n",
       "      <td>...</td>\n",
       "      <td>...</td>\n",
       "      <td>...</td>\n",
       "    </tr>\n",
       "    <tr>\n",
       "      <th>1584</th>\n",
       "      <td>Awell Ttl</td>\n",
       "      <td>0.161714</td>\n",
       "      <td>LOGISTIQUE AVANCÉE</td>\n",
       "    </tr>\n",
       "    <tr>\n",
       "      <th>1585</th>\n",
       "      <td>Axalys Logistics Maroc</td>\n",
       "      <td>0.150557</td>\n",
       "      <td>TRANSPORTS SPÉCIALISÉS</td>\n",
       "    </tr>\n",
       "    <tr>\n",
       "      <th>1586</th>\n",
       "      <td>Aya Intercontinental</td>\n",
       "      <td>0.410363</td>\n",
       "      <td>TRANSPORT INTERCONTINENTAL</td>\n",
       "    </tr>\n",
       "    <tr>\n",
       "      <th>1587</th>\n",
       "      <td>Ayan Transit</td>\n",
       "      <td>0.161714</td>\n",
       "      <td>LOGISTIQUE AVANCÉE</td>\n",
       "    </tr>\n",
       "    <tr>\n",
       "      <th>1588</th>\n",
       "      <td>Ayasalam Travel</td>\n",
       "      <td>0.161714</td>\n",
       "      <td>LOGISTIQUE AVANCÉE</td>\n",
       "    </tr>\n",
       "  </tbody>\n",
       "</table>\n",
       "<p>1589 rows × 3 columns</p>\n",
       "</div>"
      ],
      "text/plain": [
       "                           Nom  Code Secteur  \\\n",
       "0                    Allo Fret      0.516752   \n",
       "1                  DHL Express      0.178742   \n",
       "2            AAC Globe Express      0.551207   \n",
       "3               France Express      0.400367   \n",
       "4                  DHL Express      0.200818   \n",
       "...                        ...           ...   \n",
       "1584                Awell Ttl       0.161714   \n",
       "1585   Axalys Logistics Maroc       0.150557   \n",
       "1586     Aya Intercontinental       0.410363   \n",
       "1587             Ayan Transit       0.161714   \n",
       "1588          Ayasalam Travel       0.161714   \n",
       "\n",
       "                                         Nom Secteur  \n",
       "0                    TRANSPORT ROUTIER INTERNATIONAL  \n",
       "1      CONSEIL (EN LOGISTIQUE) - FORMATION ET EMPLOI  \n",
       "2                    TRANSPORT ROUTIER INTERNATIONAL  \n",
       "3                        TRANSPORT EXPRESS OU URGENT  \n",
       "4                              TRANSPORTS EN CITERNE  \n",
       "...                                              ...  \n",
       "1584                              LOGISTIQUE AVANCÉE  \n",
       "1585                          TRANSPORTS SPÉCIALISÉS  \n",
       "1586                      TRANSPORT INTERCONTINENTAL  \n",
       "1587                              LOGISTIQUE AVANCÉE  \n",
       "1588                              LOGISTIQUE AVANCÉE  \n",
       "\n",
       "[1589 rows x 3 columns]"
      ]
     },
     "execution_count": 44,
     "metadata": {},
     "output_type": "execute_result"
    }
   ],
   "source": [
    "dfCatClass"
   ]
  },
  {
   "cell_type": "code",
   "execution_count": 45,
   "metadata": {},
   "outputs": [],
   "source": [
    "dfCatClass.rename(columns = {\"Code Secteur\" : \"Similarity\"}, inplace = True)"
   ]
  },
  {
   "cell_type": "code",
   "execution_count": 46,
   "metadata": {},
   "outputs": [],
   "source": [
    "listCode = []\n",
    "listSecteur = []\n",
    "for i in range(1589):\n",
    "    for j in range(37):\n",
    "        if  dfCatClass['Nom Secteur'][i] == dfCategories['Nom Secteur'][j]:\n",
    "            listCode.append(dfCategories['Code Secteur'][j])\n",
    "            listSecteur.append(dfCategories['Nom Secteur'][j])\n",
    "            break"
   ]
  },
  {
   "cell_type": "code",
   "execution_count": 47,
   "metadata": {},
   "outputs": [],
   "source": [
    "dfCatClass['Code Secteur'] = listCode"
   ]
  },
  {
   "cell_type": "code",
   "execution_count": 48,
   "metadata": {},
   "outputs": [
    {
     "data": {
      "text/html": [
       "<div>\n",
       "<style scoped>\n",
       "    .dataframe tbody tr th:only-of-type {\n",
       "        vertical-align: middle;\n",
       "    }\n",
       "\n",
       "    .dataframe tbody tr th {\n",
       "        vertical-align: top;\n",
       "    }\n",
       "\n",
       "    .dataframe thead th {\n",
       "        text-align: right;\n",
       "    }\n",
       "</style>\n",
       "<table border=\"1\" class=\"dataframe\">\n",
       "  <thead>\n",
       "    <tr style=\"text-align: right;\">\n",
       "      <th></th>\n",
       "      <th>Nom</th>\n",
       "      <th>Similarity</th>\n",
       "      <th>Nom Secteur</th>\n",
       "      <th>Code Secteur</th>\n",
       "    </tr>\n",
       "  </thead>\n",
       "  <tbody>\n",
       "    <tr>\n",
       "      <th>0</th>\n",
       "      <td>Allo Fret</td>\n",
       "      <td>0.516752</td>\n",
       "      <td>TRANSPORT ROUTIER INTERNATIONAL</td>\n",
       "      <td>1.1.7</td>\n",
       "    </tr>\n",
       "    <tr>\n",
       "      <th>1</th>\n",
       "      <td>DHL Express</td>\n",
       "      <td>0.178742</td>\n",
       "      <td>CONSEIL (EN LOGISTIQUE) - FORMATION ET EMPLOI</td>\n",
       "      <td>1.5.2</td>\n",
       "    </tr>\n",
       "    <tr>\n",
       "      <th>2</th>\n",
       "      <td>AAC Globe Express</td>\n",
       "      <td>0.551207</td>\n",
       "      <td>TRANSPORT ROUTIER INTERNATIONAL</td>\n",
       "      <td>1.1.7</td>\n",
       "    </tr>\n",
       "    <tr>\n",
       "      <th>3</th>\n",
       "      <td>France Express</td>\n",
       "      <td>0.400367</td>\n",
       "      <td>TRANSPORT EXPRESS OU URGENT</td>\n",
       "      <td>1.1.5</td>\n",
       "    </tr>\n",
       "    <tr>\n",
       "      <th>4</th>\n",
       "      <td>DHL Express</td>\n",
       "      <td>0.200818</td>\n",
       "      <td>TRANSPORTS EN CITERNE</td>\n",
       "      <td>1.1.3</td>\n",
       "    </tr>\n",
       "    <tr>\n",
       "      <th>...</th>\n",
       "      <td>...</td>\n",
       "      <td>...</td>\n",
       "      <td>...</td>\n",
       "      <td>...</td>\n",
       "    </tr>\n",
       "    <tr>\n",
       "      <th>1584</th>\n",
       "      <td>Awell Ttl</td>\n",
       "      <td>0.161714</td>\n",
       "      <td>LOGISTIQUE AVANCÉE</td>\n",
       "      <td>1.2.3</td>\n",
       "    </tr>\n",
       "    <tr>\n",
       "      <th>1585</th>\n",
       "      <td>Axalys Logistics Maroc</td>\n",
       "      <td>0.150557</td>\n",
       "      <td>TRANSPORTS SPÉCIALISÉS</td>\n",
       "      <td>1.1.2</td>\n",
       "    </tr>\n",
       "    <tr>\n",
       "      <th>1586</th>\n",
       "      <td>Aya Intercontinental</td>\n",
       "      <td>0.410363</td>\n",
       "      <td>TRANSPORT INTERCONTINENTAL</td>\n",
       "      <td>1.1.8</td>\n",
       "    </tr>\n",
       "    <tr>\n",
       "      <th>1587</th>\n",
       "      <td>Ayan Transit</td>\n",
       "      <td>0.161714</td>\n",
       "      <td>LOGISTIQUE AVANCÉE</td>\n",
       "      <td>1.2.3</td>\n",
       "    </tr>\n",
       "    <tr>\n",
       "      <th>1588</th>\n",
       "      <td>Ayasalam Travel</td>\n",
       "      <td>0.161714</td>\n",
       "      <td>LOGISTIQUE AVANCÉE</td>\n",
       "      <td>1.2.3</td>\n",
       "    </tr>\n",
       "  </tbody>\n",
       "</table>\n",
       "<p>1589 rows × 4 columns</p>\n",
       "</div>"
      ],
      "text/plain": [
       "                           Nom  Similarity  \\\n",
       "0                    Allo Fret    0.516752   \n",
       "1                  DHL Express    0.178742   \n",
       "2            AAC Globe Express    0.551207   \n",
       "3               France Express    0.400367   \n",
       "4                  DHL Express    0.200818   \n",
       "...                        ...         ...   \n",
       "1584                Awell Ttl     0.161714   \n",
       "1585   Axalys Logistics Maroc     0.150557   \n",
       "1586     Aya Intercontinental     0.410363   \n",
       "1587             Ayan Transit     0.161714   \n",
       "1588          Ayasalam Travel     0.161714   \n",
       "\n",
       "                                         Nom Secteur Code Secteur  \n",
       "0                    TRANSPORT ROUTIER INTERNATIONAL        1.1.7  \n",
       "1      CONSEIL (EN LOGISTIQUE) - FORMATION ET EMPLOI        1.5.2  \n",
       "2                    TRANSPORT ROUTIER INTERNATIONAL        1.1.7  \n",
       "3                        TRANSPORT EXPRESS OU URGENT        1.1.5  \n",
       "4                              TRANSPORTS EN CITERNE        1.1.3  \n",
       "...                                              ...          ...  \n",
       "1584                              LOGISTIQUE AVANCÉE        1.2.3  \n",
       "1585                          TRANSPORTS SPÉCIALISÉS        1.1.2  \n",
       "1586                      TRANSPORT INTERCONTINENTAL        1.1.8  \n",
       "1587                              LOGISTIQUE AVANCÉE        1.2.3  \n",
       "1588                              LOGISTIQUE AVANCÉE        1.2.3  \n",
       "\n",
       "[1589 rows x 4 columns]"
      ]
     },
     "execution_count": 48,
     "metadata": {},
     "output_type": "execute_result"
    }
   ],
   "source": [
    "dfCatClass"
   ]
  },
  {
   "cell_type": "markdown",
   "metadata": {},
   "source": [
    "# Level 3 : Maximum similarity between catg and sub catg"
   ]
  },
  {
   "cell_type": "code",
   "execution_count": 49,
   "metadata": {},
   "outputs": [],
   "source": [
    "dfCatClass.rename(columns = {\"Code Secteur\" : \"Categorie code\"}, inplace = True)\n",
    "dfCatClass.rename(columns = {\"Similarity\" : \"Categorie Similarity\"}, inplace = True)\n",
    "dfCatClass.rename(columns = {\"Nom Secteur\" : \"Categorie\"}, inplace = True)"
   ]
  },
  {
   "cell_type": "code",
   "execution_count": 51,
   "metadata": {},
   "outputs": [
    {
     "data": {
      "text/html": [
       "<div>\n",
       "<style scoped>\n",
       "    .dataframe tbody tr th:only-of-type {\n",
       "        vertical-align: middle;\n",
       "    }\n",
       "\n",
       "    .dataframe tbody tr th {\n",
       "        vertical-align: top;\n",
       "    }\n",
       "\n",
       "    .dataframe thead th {\n",
       "        text-align: right;\n",
       "    }\n",
       "</style>\n",
       "<table border=\"1\" class=\"dataframe\">\n",
       "  <thead>\n",
       "    <tr style=\"text-align: right;\">\n",
       "      <th></th>\n",
       "      <th>Nom</th>\n",
       "      <th>Categorie Similarity</th>\n",
       "      <th>Categorie</th>\n",
       "      <th>Categorie code</th>\n",
       "    </tr>\n",
       "  </thead>\n",
       "  <tbody>\n",
       "    <tr>\n",
       "      <th>0</th>\n",
       "      <td>Allo Fret</td>\n",
       "      <td>0.516752</td>\n",
       "      <td>TRANSPORT ROUTIER INTERNATIONAL</td>\n",
       "      <td>1.1.7</td>\n",
       "    </tr>\n",
       "    <tr>\n",
       "      <th>1</th>\n",
       "      <td>DHL Express</td>\n",
       "      <td>0.178742</td>\n",
       "      <td>CONSEIL (EN LOGISTIQUE) - FORMATION ET EMPLOI</td>\n",
       "      <td>1.5.2</td>\n",
       "    </tr>\n",
       "    <tr>\n",
       "      <th>2</th>\n",
       "      <td>AAC Globe Express</td>\n",
       "      <td>0.551207</td>\n",
       "      <td>TRANSPORT ROUTIER INTERNATIONAL</td>\n",
       "      <td>1.1.7</td>\n",
       "    </tr>\n",
       "    <tr>\n",
       "      <th>3</th>\n",
       "      <td>France Express</td>\n",
       "      <td>0.400367</td>\n",
       "      <td>TRANSPORT EXPRESS OU URGENT</td>\n",
       "      <td>1.1.5</td>\n",
       "    </tr>\n",
       "    <tr>\n",
       "      <th>4</th>\n",
       "      <td>DHL Express</td>\n",
       "      <td>0.200818</td>\n",
       "      <td>TRANSPORTS EN CITERNE</td>\n",
       "      <td>1.1.3</td>\n",
       "    </tr>\n",
       "  </tbody>\n",
       "</table>\n",
       "</div>"
      ],
      "text/plain": [
       "                 Nom  Categorie Similarity  \\\n",
       "0          Allo Fret              0.516752   \n",
       "1        DHL Express              0.178742   \n",
       "2  AAC Globe Express              0.551207   \n",
       "3     France Express              0.400367   \n",
       "4        DHL Express              0.200818   \n",
       "\n",
       "                                        Categorie Categorie code  \n",
       "0                 TRANSPORT ROUTIER INTERNATIONAL          1.1.7  \n",
       "1   CONSEIL (EN LOGISTIQUE) - FORMATION ET EMPLOI          1.5.2  \n",
       "2                 TRANSPORT ROUTIER INTERNATIONAL          1.1.7  \n",
       "3                     TRANSPORT EXPRESS OU URGENT          1.1.5  \n",
       "4                           TRANSPORTS EN CITERNE          1.1.3  "
      ]
     },
     "execution_count": 51,
     "metadata": {},
     "output_type": "execute_result"
    }
   ],
   "source": [
    "dfCatClass.head()"
   ]
  },
  {
   "cell_type": "code",
   "execution_count": 53,
   "metadata": {},
   "outputs": [],
   "source": [
    "dfCatClass['Sub Categorie Similarity'] = dfSubCatClass['Similarity']\n",
    "dfCatClass['Sub Categorie'] = dfSubCatClass['Nom Secteur']\n",
    "dfCatClass['Sub Categorie code'] = dfSubCatClass['Code Secteur']"
   ]
  },
  {
   "cell_type": "code",
   "execution_count": 54,
   "metadata": {},
   "outputs": [
    {
     "data": {
      "text/html": [
       "<div>\n",
       "<style scoped>\n",
       "    .dataframe tbody tr th:only-of-type {\n",
       "        vertical-align: middle;\n",
       "    }\n",
       "\n",
       "    .dataframe tbody tr th {\n",
       "        vertical-align: top;\n",
       "    }\n",
       "\n",
       "    .dataframe thead th {\n",
       "        text-align: right;\n",
       "    }\n",
       "</style>\n",
       "<table border=\"1\" class=\"dataframe\">\n",
       "  <thead>\n",
       "    <tr style=\"text-align: right;\">\n",
       "      <th></th>\n",
       "      <th>Nom</th>\n",
       "      <th>Categorie Similarity</th>\n",
       "      <th>Categorie</th>\n",
       "      <th>Categorie code</th>\n",
       "      <th>Sub Categorie Similarity</th>\n",
       "      <th>Sub Categorie</th>\n",
       "      <th>Sub Categorie code</th>\n",
       "    </tr>\n",
       "  </thead>\n",
       "  <tbody>\n",
       "    <tr>\n",
       "      <th>0</th>\n",
       "      <td>Allo Fret</td>\n",
       "      <td>0.516752</td>\n",
       "      <td>TRANSPORT ROUTIER INTERNATIONAL</td>\n",
       "      <td>1.1.7</td>\n",
       "      <td>0.563834</td>\n",
       "      <td>- Transport de meubles</td>\n",
       "      <td>1122</td>\n",
       "    </tr>\n",
       "    <tr>\n",
       "      <th>1</th>\n",
       "      <td>DHL Express</td>\n",
       "      <td>0.178742</td>\n",
       "      <td>CONSEIL (EN LOGISTIQUE) - FORMATION ET EMPLOI</td>\n",
       "      <td>1.5.2</td>\n",
       "      <td>0.235836</td>\n",
       "      <td>- Transport et livraison</td>\n",
       "      <td>1231</td>\n",
       "    </tr>\n",
       "    <tr>\n",
       "      <th>2</th>\n",
       "      <td>AAC Globe Express</td>\n",
       "      <td>0.551207</td>\n",
       "      <td>TRANSPORT ROUTIER INTERNATIONAL</td>\n",
       "      <td>1.1.7</td>\n",
       "      <td>0.618945</td>\n",
       "      <td>- Transport de meubles</td>\n",
       "      <td>1122</td>\n",
       "    </tr>\n",
       "    <tr>\n",
       "      <th>3</th>\n",
       "      <td>France Express</td>\n",
       "      <td>0.400367</td>\n",
       "      <td>TRANSPORT EXPRESS OU URGENT</td>\n",
       "      <td>1.1.5</td>\n",
       "      <td>0.499754</td>\n",
       "      <td>- Transport express national</td>\n",
       "      <td>1151</td>\n",
       "    </tr>\n",
       "    <tr>\n",
       "      <th>4</th>\n",
       "      <td>DHL Express</td>\n",
       "      <td>0.200818</td>\n",
       "      <td>TRANSPORTS EN CITERNE</td>\n",
       "      <td>1.1.3</td>\n",
       "      <td>0.283636</td>\n",
       "      <td>- Transport et livraison</td>\n",
       "      <td>1231</td>\n",
       "    </tr>\n",
       "  </tbody>\n",
       "</table>\n",
       "</div>"
      ],
      "text/plain": [
       "                 Nom  Categorie Similarity  \\\n",
       "0          Allo Fret              0.516752   \n",
       "1        DHL Express              0.178742   \n",
       "2  AAC Globe Express              0.551207   \n",
       "3     France Express              0.400367   \n",
       "4        DHL Express              0.200818   \n",
       "\n",
       "                                        Categorie Categorie code  \\\n",
       "0                 TRANSPORT ROUTIER INTERNATIONAL          1.1.7   \n",
       "1   CONSEIL (EN LOGISTIQUE) - FORMATION ET EMPLOI          1.5.2   \n",
       "2                 TRANSPORT ROUTIER INTERNATIONAL          1.1.7   \n",
       "3                     TRANSPORT EXPRESS OU URGENT          1.1.5   \n",
       "4                           TRANSPORTS EN CITERNE          1.1.3   \n",
       "\n",
       "   Sub Categorie Similarity                 Sub Categorie Sub Categorie code  \n",
       "0                  0.563834        - Transport de meubles              1122   \n",
       "1                  0.235836      - Transport et livraison              1231   \n",
       "2                  0.618945        - Transport de meubles              1122   \n",
       "3                  0.499754  - Transport express national              1151   \n",
       "4                  0.283636      - Transport et livraison              1231   "
      ]
     },
     "execution_count": 54,
     "metadata": {},
     "output_type": "execute_result"
    }
   ],
   "source": [
    "dfCatClass.head()"
   ]
  },
  {
   "cell_type": "code",
   "execution_count": 55,
   "metadata": {},
   "outputs": [],
   "source": [
    "writer = pd.ExcelWriter('Total DataClassification .xlsx')\n",
    "dfCatClass.to_excel(writer)\n",
    "writer.save()"
   ]
  },
  {
   "cell_type": "code",
   "execution_count": 60,
   "metadata": {},
   "outputs": [],
   "source": [
    "dfFinalClassif = DataFrame(columns = ['Nom','Secteur','Code Secteur'])"
   ]
  },
  {
   "cell_type": "code",
   "execution_count": 66,
   "metadata": {},
   "outputs": [],
   "source": [
    "# Take categorie and code categorie from the classification with max similarity\n",
    "\n",
    "listSecteur = []\n",
    "listCodeSecteur = []\n",
    "\n",
    "for i in range(1589):\n",
    "    maxSimilarity = max(dfCatClass['Categorie Similarity'][i], dfCatClass['Sub Categorie Similarity'][i])\n",
    "    if maxSimilarity == dfCatClass['Categorie Similarity'][i]:\n",
    "        listSecteur.append(dfCatClass['Categorie'][i])\n",
    "        listCodeSecteur.append(dfCatClass['Categorie code'][i])\n",
    "    elif maxSimilarity == dfCatClass['Sub Categorie Similarity'][i]:\n",
    "        listSecteur.append(dfCatClass['Sub Categorie'][i])\n",
    "        listCodeSecteur.append(dfCatClass['Sub Categorie code'][i])\n",
    "    else:\n",
    "        listSecteur.append(\"Prestations transport et logistique\")\n",
    "        listCodeSecteur.append(\"1\")"
   ]
  },
  {
   "cell_type": "code",
   "execution_count": 74,
   "metadata": {},
   "outputs": [],
   "source": [
    "for i in range(1589):\n",
    "    if listSecteur[i].find('-') != -1:\n",
    "        listSecteur[i] = listSecteur[i][1:]\n",
    "        "
   ]
  },
  {
   "cell_type": "code",
   "execution_count": 76,
   "metadata": {},
   "outputs": [],
   "source": [
    "dfFinalClassif['Nom'] = dfCatClass['Nom']\n",
    "dfFinalClassif['Secteur'] = listSecteur\n",
    "dfFinalClassif['Code Secteur'] = listCodeSecteur"
   ]
  },
  {
   "cell_type": "code",
   "execution_count": 78,
   "metadata": {},
   "outputs": [],
   "source": [
    "writer = pd.ExcelWriter('Data Classification.xlsx')\n",
    "dfFinalClassif.to_excel(writer)\n",
    "writer.save()"
   ]
  }
 ],
 "metadata": {
  "kernelspec": {
   "display_name": "Python 3",
   "language": "python",
   "name": "python3"
  },
  "language_info": {
   "codemirror_mode": {
    "name": "ipython",
    "version": 3
   },
   "file_extension": ".py",
   "mimetype": "text/x-python",
   "name": "python",
   "nbconvert_exporter": "python",
   "pygments_lexer": "ipython3",
   "version": "3.8.5"
  }
 },
 "nbformat": 4,
 "nbformat_minor": 4
}
